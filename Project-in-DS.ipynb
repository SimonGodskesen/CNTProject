{
 "cells": [
  {
   "cell_type": "code",
   "execution_count": 18,
   "id": "82a5ff46",
   "metadata": {},
   "outputs": [],
   "source": [
    "import torch\n",
    "import torchvision\n",
    "import torchvision.transforms as transforms\n",
    "import matplotlib.pyplot as plt\n",
    "import numpy as np\n",
    "import torch.nn as nn\n",
    "import torch.nn.functional as F\n",
    "import torch.optim as optim"
   ]
  },
  {
   "cell_type": "markdown",
   "id": "8e54e2fa",
   "metadata": {},
   "source": [
    "Load MNIST Data"
   ]
  },
  {
   "cell_type": "code",
   "execution_count": 19,
   "id": "5ed5418a",
   "metadata": {},
   "outputs": [],
   "source": [
    "transform = transforms.Compose(\n",
    "    [transforms.ToTensor()])\n",
    "trainset = torchvision.datasets.MNIST(root='./data', train=True,\n",
    "                                        download=True, transform=transform)\n",
    "testset = torchvision.datasets.MNIST(root='./data', train=False, download=True, transform=transform)\n",
    "\n",
    "batch_size = 5\n",
    "trainloader = torch.utils.data.DataLoader(trainset, batch_size=batch_size, shuffle=True)\n",
    "testloader = torch.utils.data.DataLoader(testset, batch_size = batch_size, shuffle=False)"
   ]
  },
  {
   "cell_type": "markdown",
   "id": "5568513e",
   "metadata": {},
   "source": [
    "View some of the images"
   ]
  },
  {
   "cell_type": "code",
   "execution_count": 20,
   "id": "301714bc",
   "metadata": {},
   "outputs": [
    {
     "data": {
      "image/png": "[encoded data removed]",
      "text/plain": [
       "<Figure size 432x288 with 1 Axes>"
      ]
     },
     "metadata": {
      "needs_background": "light"
     },
     "output_type": "display_data"
    }
   ],
   "source": [
    "#imshow taken from https://pytorch.org/tutorials/beginner/blitz/cifar10_tutorial.html\n",
    "def imshow(img):\n",
    "    #img = img / 2 + 0.5     # unnormalize\n",
    "    npimg = img.numpy()\n",
    "    plt.imshow(np.transpose(npimg, (1, 2, 0)))\n",
    "    plt.show()\n",
    "\n",
    "train_iterator = iter(trainloader)\n",
    "images, labels = next(train_iterator)\n",
    "imshow(torchvision.utils.make_grid(images))"
   ]
  },
  {
   "cell_type": "code",
   "execution_count": null,
   "id": "8ab196e0",
   "metadata": {},
   "outputs": [],
   "source": [
    "Create Neural Network"
   ]
  },
  {
   "cell_type": "code",
   "execution_count": 38,
   "id": "0f900211",
   "metadata": {},
   "outputs": [],
   "source": [
    "class Net(nn.Module):\n",
    "    def __init__(self):\n",
    "        super().__init__()\n",
    "        self.conv1 = nn.Conv2d(1, 3, 5)\n",
    "        self.pool = nn.MaxPool2d(2,2)\n",
    "        self.conv2 = nn.Conv2d(3, 10, 5)\n",
    "        self.fc1 = nn.Linear(160, 100)\n",
    "        self.fc2 = nn.Linear(100, 60)\n",
    "        self.fc3 = nn.Linear(60, 10)\n",
    "        \n",
    "        #self.conv1 = nn.Conv2d(3, 6, 5)\n",
    "        #self.pool = nn.MaxPool2d(2, 2)\n",
    "        #self.conv2 = nn.Conv2d(6, 16, 5)\n",
    "        #self.fc1 = nn.Linear(16 * 5 * 5, 120)\n",
    "        #self.fc2 = nn.Linear(120, 84)\n",
    "        #self.fc3 = nn.Linear(84, 10)\n",
    "        \n",
    "        \n",
    "    def forward(self, x):\n",
    "        x = self.pool(torch.sigmoid(self.conv1(x)))\n",
    "        x = self.pool(torch.sigmoid(self.conv2(x)))\n",
    "        x = torch.flatten(x, 1) # flatten all dimensions except batch\n",
    "        x = F.sigmoid(self.fc1(x))\n",
    "        x = F.sigmoid(self.fc2(x))\n",
    "        x = self.fc3(x)\n",
    "        return x\n",
    "    \n",
    "net = Net()\n",
    "    \n",
    "criterion = nn.CrossEntropyLoss()\n",
    "optimizer = optim.Adam(net.parameters(), lr=0.01)"
   ]
  },
  {
   "cell_type": "markdown",
   "id": "0a03aed0",
   "metadata": {},
   "source": [
    "Train Model"
   ]
  },
  {
   "cell_type": "code",
   "execution_count": 39,
   "id": "2e400993",
   "metadata": {},
   "outputs": [
    {
     "name": "stdout",
     "output_type": "stream",
     "text": [
      "[1,  2000] loss: 0.993\n",
      "[1,  4000] loss: 1.198\n",
      "[1,  6000] loss: 1.380\n",
      "[1,  8000] loss: 1.535\n",
      "[1, 10000] loss: 1.688\n",
      "[1, 12000] loss: 1.816\n",
      "[2,  2000] loss: 0.121\n",
      "[2,  4000] loss: 0.230\n",
      "[2,  6000] loss: 0.356\n",
      "[2,  8000] loss: 0.462\n",
      "[2, 10000] loss: 0.588\n",
      "[2, 12000] loss: 0.723\n",
      "[3,  2000] loss: 0.101\n",
      "[3,  4000] loss: 0.210\n",
      "[3,  6000] loss: 0.331\n",
      "[3,  8000] loss: 0.423\n",
      "[3, 10000] loss: 0.538\n",
      "[3, 12000] loss: 0.654\n"
     ]
    }
   ],
   "source": [
    "for epoch in range(3):\n",
    "    current_loss = 0.0\n",
    "    for i, data in enumerate(trainloader, 0):\n",
    "        inputs, labels = data\n",
    "        optimizer.zero_grad()\n",
    "        outputs = net(inputs)\n",
    "        loss = criterion(outputs, labels)\n",
    "        loss.backward()\n",
    "        optimizer.step()\n",
    "        \n",
    "        current_loss += loss.item()\n",
    "        if i % 2000 == 1999:\n",
    "            print(f'[{epoch + 1}, {i + 1:5d}] loss: {current_loss / 2000:.3f}')\n",
    "        current_loss = 0.0"
   ]
  },
  {
   "cell_type": "markdown",
   "id": "d494f8d2",
   "metadata": {},
   "source": [
    "View parameters, and calculate node strength of first node in linear layer"
   ]
  },
  {
   "cell_type": "code",
   "execution_count": 44,
   "id": "aecc2cdd",
   "metadata": {},
   "outputs": [
    {
     "name": "stdout",
     "output_type": "stream",
     "text": [
      "100\n",
      "torch.Size([60, 100])\n",
      "torch.Size([10, 60])\n",
      "100\n",
      "tensor(-179.5608)\n"
     ]
    }
   ],
   "source": [
    "weight_layer1 = net.fc1.weight.data\n",
    "weight_layer2 = net.fc2.weight.data\n",
    "weight_layer3 = net.fc3.weight.data\n",
    "bias_layer1 = net.fc1.bias.data\n",
    "bias_layer2 = net.fc2.bias.data\n",
    "bias_layer3 = net.fc3.bias.data\n",
    "\n",
    "print(weight_layer1.size(dim=0))\n",
    "print(weight_layer2.size())\n",
    "print(weight_layer3.size())\n",
    "print(bias_layer1.size(dim=0))\n",
    "\n",
    "node_strength_node1_1 = 0\n",
    "for i in range(weight_layer1.size(dim=0)):\n",
    "    node_strength_node1_1 += weight_layer1[i, 0]\n",
    "for b in range(bias_layer1.size(dim=0)):\n",
    "    node_strength_node1_1 += bias_layer1[b]\n",
    "for j in range(weight_layer2.size(dim=1)):\n",
    "    node_strength_node1_1 += weight_layer2[0, j]\n",
    "print(node_strength_node1_1)\n",
    "    "
   ]
  }
 ],
 "metadata": {
  "kernelspec": {
   "display_name": "Python 3",
   "language": "python",
   "name": "python3"
  },
  "language_info": {
   "codemirror_mode": {
    "name": "ipython",
    "version": 3
   },
   "file_extension": ".py",
   "mimetype": "text/x-python",
   "name": "python",
   "nbconvert_exporter": "python",
   "pygments_lexer": "ipython3",
   "version": "3.8.8"
  }
 },
 "nbformat": 4,
 "nbformat_minor": 5
}
